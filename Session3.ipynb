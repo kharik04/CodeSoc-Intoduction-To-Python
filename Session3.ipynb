{
 "cells": [
  {
   "cell_type": "code",
   "execution_count": 2,
   "metadata": {},
   "outputs": [],
   "source": [
    "a=5"
   ]
  },
  {
   "cell_type": "code",
   "execution_count": 3,
   "metadata": {},
   "outputs": [],
   "source": [
    "myList=[1,2,3,4]\n",
    "myNames=[\"khariton\",\"leon\"]"
   ]
  },
  {
   "cell_type": "code",
   "execution_count": 4,
   "metadata": {},
   "outputs": [],
   "source": [
    "myDictionary={\"key1\":\"value1\", \"key2\":\"value2\"}"
   ]
  },
  {
   "cell_type": "code",
   "execution_count": 6,
   "metadata": {},
   "outputs": [
    {
     "data": {
      "text/plain": [
       "'value1'"
      ]
     },
     "execution_count": 6,
     "metadata": {},
     "output_type": "execute_result"
    }
   ],
   "source": [
    "myDictionary[\"key1\"]"
   ]
  },
  {
   "cell_type": "code",
   "execution_count": 12,
   "metadata": {
    "scrolled": true
   },
   "outputs": [],
   "source": [
    "def getArea(radius):\n",
    "    return 3.141*radius**2\n"
   ]
  },
  {
   "cell_type": "code",
   "execution_count": 14,
   "metadata": {},
   "outputs": [
    {
     "name": "stdout",
     "output_type": "stream",
     "text": [
      "78.525\n"
     ]
    }
   ],
   "source": [
    "myarea=getArea(5)\n",
    "print(myarea)"
   ]
  },
  {
   "cell_type": "code",
   "execution_count": 15,
   "metadata": {},
   "outputs": [],
   "source": [
    "def Fib(n):\n",
    "    if n==1:\n",
    "        return(1)\n",
    "    elif n==0:\n",
    "        return(0)\n",
    "    else:\n",
    "        return Fib(n-1)+Fib(n-2)\n"
   ]
  },
  {
   "cell_type": "code",
   "execution_count": 26,
   "metadata": {},
   "outputs": [],
   "source": [
    "def Fact(n):\n",
    "    if n==1 or n==0:\n",
    "        return 1\n",
    "    else:\n",
    "        return n*Fact(n-1)\n",
    "\n"
   ]
  },
  {
   "cell_type": "code",
   "execution_count": 32,
   "metadata": {},
   "outputs": [],
   "source": [
    "People = [[\"name1\",12,[\"football\",\"programming\"]], [\"name2\", 25,[\"math\",\"classics\"]]]"
   ]
  },
  {
   "cell_type": "markdown",
   "metadata": {},
   "source": [
    "variable types"
   ]
  },
  {
   "cell_type": "code",
   "execution_count": 37,
   "metadata": {},
   "outputs": [
    {
     "data": {
      "text/plain": [
       "str"
      ]
     },
     "execution_count": 37,
     "metadata": {},
     "output_type": "execute_result"
    }
   ],
   "source": [
    "var1 = 2\n",
    "var2 = 3.141\n",
    "var3= [1,2]\n",
    "var4 =\"name\"\n",
    "type(var4)"
   ]
  },
  {
   "cell_type": "markdown",
   "metadata": {},
   "source": [
    "Classes"
   ]
  },
  {
   "cell_type": "code",
   "execution_count": 65,
   "metadata": {},
   "outputs": [
    {
     "data": {
      "text/plain": [
       "25"
      ]
     },
     "execution_count": 65,
     "metadata": {},
     "output_type": "execute_result"
    }
   ],
   "source": [
    "class Person:\n",
    "    def __init__(self, givenName, givenAge):\n",
    "        self.name=givenName\n",
    "        self.age=givenAge\n",
    "    \n",
    "    \n",
    "\n",
    "person1=Person(\"Patrick\", 25)\n",
    "person1.age\n"
   ]
  },
  {
   "cell_type": "code",
   "execution_count": 66,
   "metadata": {},
   "outputs": [
    {
     "data": {
      "text/plain": [
       "[0, 1, 4, 9, 16, 25, 36, 49, 64, 81, 100]"
      ]
     },
     "execution_count": 66,
     "metadata": {},
     "output_type": "execute_result"
    }
   ],
   "source": [
    "myList=[]\n",
    "for i in range(0, 11):\n",
    "    value=i**2\n",
    "    myList.append(value)\n",
    "myList"
   ]
  },
  {
   "cell_type": "code",
   "execution_count": 70,
   "metadata": {},
   "outputs": [],
   "source": [
    "myList2=[x**2 for x in range(0,11)]\n",
    "#myList=[f(x) for x in someList if g(x)]"
   ]
  },
  {
   "cell_type": "code",
   "execution_count": 73,
   "metadata": {},
   "outputs": [],
   "source": [
    "import numpy as np"
   ]
  },
  {
   "cell_type": "code",
   "execution_count": 74,
   "metadata": {},
   "outputs": [],
   "source": [
    "a=[1,2,3,4]\n",
    "A=np.array(a)"
   ]
  },
  {
   "cell_type": "code",
   "execution_count": 86,
   "metadata": {},
   "outputs": [
    {
     "data": {
      "text/plain": [
       "array([[-0.8],\n",
       "       [ 2.2]])"
      ]
     },
     "execution_count": 86,
     "metadata": {},
     "output_type": "execute_result"
    }
   ],
   "source": [
    "A=np.array([[2,3],[5,5]])\n",
    "b=np.array([[5],[7]])\n",
    "\n",
    "Ainv=np.linalg.inv(A)\n",
    "x=np.matmul(Ainv,b)"
   ]
  },
  {
   "cell_type": "code",
   "execution_count": 90,
   "metadata": {},
   "outputs": [
    {
     "name": "stdout",
     "output_type": "stream",
     "text": [
      "3.141592653589793\n",
      "120\n",
      "3.0\n"
     ]
    }
   ],
   "source": [
    "import math\n",
    "\n",
    "print(math.pi)\n",
    "print( math.factorial(5) )\n",
    "print(math.fsum([1,1,1]))"
   ]
  },
  {
   "cell_type": "code",
   "execution_count": 126,
   "metadata": {},
   "outputs": [],
   "source": [
    "import csv\n",
    "\n",
    "myFile=open(\"GBP_USD_data.csv\")\n",
    "readCSV=csv.reader(myFile, delimiter=\",\")\n",
    "prices=[]\n",
    "for i, row in enumerate(readCSV):\n",
    "    if i!=0:\n",
    "        prices.append(float(row[1]))"
   ]
  },
  {
   "cell_type": "code",
   "execution_count": 127,
   "metadata": {},
   "outputs": [
    {
     "name": "stdout",
     "output_type": "stream",
     "text": [
      "mean is 1.2627652173913042 stand. dev. is 0.028175030994508275\n"
     ]
    }
   ],
   "source": [
    "import statistics as stats\n",
    "avePrice=stats.mean(prices)\n",
    "stDev=stats.stdev(prices)\n",
    "print(\"mean is\", avePrice, \"stand. dev. is\", stDev)"
   ]
  },
  {
   "cell_type": "code",
   "execution_count": 128,
   "metadata": {},
   "outputs": [
    {
     "data": {
      "text/plain": [
       "[<matplotlib.lines.Line2D at 0x7f8cc7eaefd0>]"
      ]
     },
     "execution_count": 128,
     "metadata": {},
     "output_type": "execute_result"
    },
    {
     "data": {
      "image/png": "[encoded data removed]",
      "text/plain": [
       "<Figure size 432x288 with 1 Axes>"
      ]
     },
     "metadata": {
      "needs_background": "light"
     },
     "output_type": "display_data"
    }
   ],
   "source": []
  },
  {
   "cell_type": "code",
   "execution_count": null,
   "metadata": {},
   "outputs": [],
   "source": []
  },
  {
   "cell_type": "code",
   "execution_count": 110,
   "metadata": {},
   "outputs": [],
   "source": [
    "import matplotlib.pyplot as plt "
   ]
  },
  {
   "cell_type": "code",
   "execution_count": 111,
   "metadata": {},
   "outputs": [
    {
     "data": {
      "text/plain": [
       "[<matplotlib.lines.Line2D at 0x7f8cc813b8d0>]"
      ]
     },
     "execution_count": 111,
     "metadata": {},
     "output_type": "execute_result"
    },
    {
     "data": {
      "image/png": "[encoded data removed]",
      "text/plain": [
       "<Figure size 432x288 with 1 Axes>"
      ]
     },
     "metadata": {
      "needs_background": "light"
     },
     "output_type": "display_data"
    }
   ],
   "source": [
    "y=[0,1,2,3,4]\n",
    "plt.plot(y)"
   ]
  },
  {
   "cell_type": "code",
   "execution_count": 113,
   "metadata": {},
   "outputs": [
    {
     "data": {
      "text/plain": [
       "[<matplotlib.lines.Line2D at 0x7f8cc80787b8>]"
      ]
     },
     "execution_count": 113,
     "metadata": {},
     "output_type": "execute_result"
    },
    {
     "data": {
      "image/png": "[encoded data removed]",
      "text/plain": [
       "<Figure size 432x288 with 1 Axes>"
      ]
     },
     "metadata": {
      "needs_background": "light"
     },
     "output_type": "display_data"
    }
   ],
   "source": [
    "y=[1,5,25,125]\n",
    "x=[1,2,3,4]\n",
    "plt.plot(x,y)"
   ]
  },
  {
   "cell_type": "code",
   "execution_count": 124,
   "metadata": {},
   "outputs": [
    {
     "data": {
      "text/plain": [
       "list"
      ]
     },
     "execution_count": 124,
     "metadata": {},
     "output_type": "execute_result"
    },
    {
     "data": {
      "image/png": "[encoded data removed]",
      "text/plain": [
       "<Figure size 432x288 with 1 Axes>"
      ]
     },
     "metadata": {
      "needs_background": "light"
     },
     "output_type": "display_data"
    }
   ],
   "source": [
    "import math\n",
    "\n",
    "t0=0\n",
    "tf=10\n",
    "dt=0.1\n",
    "time=[]\n",
    "currentTime=t0\n",
    "\n",
    "while currentTime<=tf:\n",
    "    time.append(currentTime)\n",
    "    currentTime+=dt\n",
    "\n",
    "y=[]\n",
    "for t in time:\n",
    "    value=math.sin(t)\n",
    "    y.append(value)\n",
    "\n",
    "plt.plot(time, y)\n",
    "type(y)\n"
   ]
  },
  {
   "cell_type": "code",
   "execution_count": null,
   "metadata": {},
   "outputs": [],
   "source": []
  },
  {
   "cell_type": "code",
   "execution_count": 125,
   "metadata": {},
   "outputs": [
    {
     "data": {
      "text/plain": [
       "numpy.ndarray"
      ]
     },
     "execution_count": 125,
     "metadata": {},
     "output_type": "execute_result"
    },
    {
     "data": {
      "image/png": "[encoded data removed]",
      "text/plain": [
       "<Figure size 432x288 with 1 Axes>"
      ]
     },
     "metadata": {
      "needs_background": "light"
     },
     "output_type": "display_data"
    }
   ],
   "source": [
    "import numpy as np\n",
    "import matplotlib.pyplot as plt\n",
    "\n",
    "t0=0\n",
    "tf=10\n",
    "dt=0.1\n",
    "time=np.arange(t0,tf,dt)\n",
    "y=np.sin(time)\n",
    "plt.plot(time,y)"
   ]
  },
  {
   "cell_type": "code",
   "execution_count": 130,
   "metadata": {},
   "outputs": [
    {
     "data": {
      "image/png": "[encoded data removed]",
      "text/plain": [
       "<Figure size 432x288 with 1 Axes>"
      ]
     },
     "metadata": {
      "needs_background": "light"
     },
     "output_type": "display_data"
    }
   ],
   "source": [
    "plt.plot(prices, label=\"Prices\")\n",
    "plt.xlabel(\"time\")\n",
    "plt.ylabel(\"GBP/USD\")\n",
    "plt.title(\"GBP to USD\")\n",
    "plt.show()"
   ]
  },
  {
   "cell_type": "markdown",
   "metadata": {},
   "source": [
    "Pandas"
   ]
  },
  {
   "cell_type": "code",
   "execution_count": 131,
   "metadata": {},
   "outputs": [
    {
     "data": {
      "text/plain": [
       "[1.2903,\n",
       " 1.2866,\n",
       " 1.2864,\n",
       " 1.2827,\n",
       " 1.285,\n",
       " 1.2912,\n",
       " 1.2872,\n",
       " 1.2958,\n",
       " 1.2926,\n",
       " 1.289,\n",
       " 1.2832,\n",
       " 1.2787,\n",
       " 1.2609,\n",
       " 1.2625,\n",
       " 1.2441,\n",
       " 1.2207,\n",
       " 1.2218,\n",
       " 1.229,\n",
       " 1.2327,\n",
       " 1.2332,\n",
       " 1.2306,\n",
       " 1.2307,\n",
       " 1.2287]"
      ]
     },
     "execution_count": 131,
     "metadata": {},
     "output_type": "execute_result"
    }
   ],
   "source": [
    "prices"
   ]
  },
  {
   "cell_type": "code",
   "execution_count": 156,
   "metadata": {},
   "outputs": [],
   "source": [
    "import pandas as pd\n",
    "import csv\n",
    "\n",
    "csvfile=open(\"GBP_USD_data.csv\")\n",
    "readCSV=csv.reader(csvfile, delimiter = \",\")"
   ]
  },
  {
   "cell_type": "code",
   "execution_count": 157,
   "metadata": {},
   "outputs": [
    {
     "data": {
      "text/html": [
       "<div>\n",
       "<style scoped>\n",
       "    .dataframe tbody tr th:only-of-type {\n",
       "        vertical-align: middle;\n",
       "    }\n",
       "\n",
       "    .dataframe tbody tr th {\n",
       "        vertical-align: top;\n",
       "    }\n",
       "\n",
       "    .dataframe thead th {\n",
       "        text-align: right;\n",
       "    }\n",
       "</style>\n",
       "<table border=\"1\" class=\"dataframe\">\n",
       "  <thead>\n",
       "    <tr style=\"text-align: right;\">\n",
       "      <th></th>\n",
       "      <th>0</th>\n",
       "      <th>1</th>\n",
       "    </tr>\n",
       "  </thead>\n",
       "  <tbody>\n",
       "    <tr>\n",
       "      <th>0</th>\n",
       "      <td>Date</td>\n",
       "      <td>Open</td>\n",
       "    </tr>\n",
       "    <tr>\n",
       "      <th>1</th>\n",
       "      <td>Oct 31, 2019</td>\n",
       "      <td>1.2903</td>\n",
       "    </tr>\n",
       "    <tr>\n",
       "      <th>2</th>\n",
       "      <td>Oct 30, 2019</td>\n",
       "      <td>1.2866</td>\n",
       "    </tr>\n",
       "    <tr>\n",
       "      <th>3</th>\n",
       "      <td>Oct 29, 2019</td>\n",
       "      <td>1.2864</td>\n",
       "    </tr>\n",
       "    <tr>\n",
       "      <th>4</th>\n",
       "      <td>Oct 28, 2019</td>\n",
       "      <td>1.2827</td>\n",
       "    </tr>\n",
       "  </tbody>\n",
       "</table>\n",
       "</div>"
      ],
      "text/plain": [
       "              0       1\n",
       "0          Date    Open\n",
       "1  Oct 31, 2019  1.2903\n",
       "2  Oct 30, 2019  1.2866\n",
       "3  Oct 29, 2019  1.2864\n",
       "4  Oct 28, 2019  1.2827"
      ]
     },
     "execution_count": 157,
     "metadata": {},
     "output_type": "execute_result"
    }
   ],
   "source": [
    "df=pd.DataFrame(readCSV)\n",
    "df.head()"
   ]
  },
  {
   "cell_type": "code",
   "execution_count": null,
   "metadata": {},
   "outputs": [],
   "source": []
  },
  {
   "cell_type": "code",
   "execution_count": 196,
   "metadata": {},
   "outputs": [
    {
     "data": {
      "text/html": [
       "<div>\n",
       "<style scoped>\n",
       "    .dataframe tbody tr th:only-of-type {\n",
       "        vertical-align: middle;\n",
       "    }\n",
       "\n",
       "    .dataframe tbody tr th {\n",
       "        vertical-align: top;\n",
       "    }\n",
       "\n",
       "    .dataframe thead th {\n",
       "        text-align: right;\n",
       "    }\n",
       "</style>\n",
       "<table border=\"1\" class=\"dataframe\">\n",
       "  <thead>\n",
       "    <tr style=\"text-align: right;\">\n",
       "      <th></th>\n",
       "      <th>Open</th>\n",
       "    </tr>\n",
       "    <tr>\n",
       "      <th>Date</th>\n",
       "      <th></th>\n",
       "    </tr>\n",
       "  </thead>\n",
       "  <tbody>\n",
       "    <tr>\n",
       "      <th>Oct 31, 2019</th>\n",
       "      <td>1.2903</td>\n",
       "    </tr>\n",
       "    <tr>\n",
       "      <th>Oct 30, 2019</th>\n",
       "      <td>1.2866</td>\n",
       "    </tr>\n",
       "    <tr>\n",
       "      <th>Oct 29, 2019</th>\n",
       "      <td>1.2864</td>\n",
       "    </tr>\n",
       "    <tr>\n",
       "      <th>Oct 28, 2019</th>\n",
       "      <td>1.2827</td>\n",
       "    </tr>\n",
       "    <tr>\n",
       "      <th>Oct 25, 2019</th>\n",
       "      <td>1.2850</td>\n",
       "    </tr>\n",
       "  </tbody>\n",
       "</table>\n",
       "</div>"
      ],
      "text/plain": [
       "                Open\n",
       "Date                \n",
       "Oct 31, 2019  1.2903\n",
       "Oct 30, 2019  1.2866\n",
       "Oct 29, 2019  1.2864\n",
       "Oct 28, 2019  1.2827\n",
       "Oct 25, 2019  1.2850"
      ]
     },
     "execution_count": 196,
     "metadata": {},
     "output_type": "execute_result"
    }
   ],
   "source": [
    "df=pd.read_csv(\"GBP_USD_data.csv\", index_col=0)\n",
    "df.head()"
   ]
  },
  {
   "cell_type": "code",
   "execution_count": 197,
   "metadata": {},
   "outputs": [
    {
     "data": {
      "text/html": [
       "<div>\n",
       "<style scoped>\n",
       "    .dataframe tbody tr th:only-of-type {\n",
       "        vertical-align: middle;\n",
       "    }\n",
       "\n",
       "    .dataframe tbody tr th {\n",
       "        vertical-align: top;\n",
       "    }\n",
       "\n",
       "    .dataframe thead th {\n",
       "        text-align: right;\n",
       "    }\n",
       "</style>\n",
       "<table border=\"1\" class=\"dataframe\">\n",
       "  <thead>\n",
       "    <tr style=\"text-align: right;\">\n",
       "      <th></th>\n",
       "      <th>Open</th>\n",
       "      <th>High</th>\n",
       "      <th>Low</th>\n",
       "      <th>Close</th>\n",
       "      <th>Adj Close</th>\n",
       "      <th>Volume</th>\n",
       "    </tr>\n",
       "    <tr>\n",
       "      <th>Date</th>\n",
       "      <th></th>\n",
       "      <th></th>\n",
       "      <th></th>\n",
       "      <th></th>\n",
       "      <th></th>\n",
       "      <th></th>\n",
       "    </tr>\n",
       "  </thead>\n",
       "  <tbody>\n",
       "    <tr>\n",
       "      <th>2019-08-12</th>\n",
       "      <td>199.619995</td>\n",
       "      <td>202.050003</td>\n",
       "      <td>199.149994</td>\n",
       "      <td>200.479996</td>\n",
       "      <td>200.479996</td>\n",
       "      <td>22481900</td>\n",
       "    </tr>\n",
       "    <tr>\n",
       "      <th>2019-08-13</th>\n",
       "      <td>201.020004</td>\n",
       "      <td>212.139999</td>\n",
       "      <td>200.479996</td>\n",
       "      <td>208.970001</td>\n",
       "      <td>208.970001</td>\n",
       "      <td>47218500</td>\n",
       "    </tr>\n",
       "    <tr>\n",
       "      <th>2019-08-14</th>\n",
       "      <td>203.160004</td>\n",
       "      <td>206.440002</td>\n",
       "      <td>202.589996</td>\n",
       "      <td>202.750000</td>\n",
       "      <td>202.750000</td>\n",
       "      <td>36547400</td>\n",
       "    </tr>\n",
       "    <tr>\n",
       "      <th>2019-08-15</th>\n",
       "      <td>203.460007</td>\n",
       "      <td>205.139999</td>\n",
       "      <td>199.669998</td>\n",
       "      <td>201.740005</td>\n",
       "      <td>201.740005</td>\n",
       "      <td>27227400</td>\n",
       "    </tr>\n",
       "    <tr>\n",
       "      <th>2019-08-16</th>\n",
       "      <td>204.279999</td>\n",
       "      <td>207.160004</td>\n",
       "      <td>203.839996</td>\n",
       "      <td>206.500000</td>\n",
       "      <td>206.500000</td>\n",
       "      <td>27620400</td>\n",
       "    </tr>\n",
       "  </tbody>\n",
       "</table>\n",
       "</div>"
      ],
      "text/plain": [
       "                  Open        High         Low       Close   Adj Close  \\\n",
       "Date                                                                     \n",
       "2019-08-12  199.619995  202.050003  199.149994  200.479996  200.479996   \n",
       "2019-08-13  201.020004  212.139999  200.479996  208.970001  208.970001   \n",
       "2019-08-14  203.160004  206.440002  202.589996  202.750000  202.750000   \n",
       "2019-08-15  203.460007  205.139999  199.669998  201.740005  201.740005   \n",
       "2019-08-16  204.279999  207.160004  203.839996  206.500000  206.500000   \n",
       "\n",
       "              Volume  \n",
       "Date                  \n",
       "2019-08-12  22481900  \n",
       "2019-08-13  47218500  \n",
       "2019-08-14  36547400  \n",
       "2019-08-15  27227400  \n",
       "2019-08-16  27620400  "
      ]
     },
     "execution_count": 197,
     "metadata": {},
     "output_type": "execute_result"
    }
   ],
   "source": [
    "df = pd.read_csv(\"AAPL.csv\", index_col=0)\n",
    "df.head()"
   ]
  },
  {
   "cell_type": "code",
   "execution_count": 198,
   "metadata": {},
   "outputs": [
    {
     "data": {
      "text/html": [
       "<div>\n",
       "<style scoped>\n",
       "    .dataframe tbody tr th:only-of-type {\n",
       "        vertical-align: middle;\n",
       "    }\n",
       "\n",
       "    .dataframe tbody tr th {\n",
       "        vertical-align: top;\n",
       "    }\n",
       "\n",
       "    .dataframe thead th {\n",
       "        text-align: right;\n",
       "    }\n",
       "</style>\n",
       "<table border=\"1\" class=\"dataframe\">\n",
       "  <thead>\n",
       "    <tr style=\"text-align: right;\">\n",
       "      <th></th>\n",
       "      <th>Volume</th>\n",
       "      <th>Open</th>\n",
       "    </tr>\n",
       "    <tr>\n",
       "      <th>Date</th>\n",
       "      <th></th>\n",
       "      <th></th>\n",
       "    </tr>\n",
       "  </thead>\n",
       "  <tbody>\n",
       "    <tr>\n",
       "      <th>2019-09-04</th>\n",
       "      <td>19188100</td>\n",
       "      <td>208.389999</td>\n",
       "    </tr>\n",
       "    <tr>\n",
       "      <th>2019-09-05</th>\n",
       "      <td>23913700</td>\n",
       "      <td>212.000000</td>\n",
       "    </tr>\n",
       "  </tbody>\n",
       "</table>\n",
       "</div>"
      ],
      "text/plain": [
       "              Volume        Open\n",
       "Date                            \n",
       "2019-09-04  19188100  208.389999\n",
       "2019-09-05  23913700  212.000000"
      ]
     },
     "execution_count": 198,
     "metadata": {},
     "output_type": "execute_result"
    }
   ],
   "source": [
    "df.loc[[\"2019-09-04\",\"2019-09-05\"],[\"Volume\",\"Open\"]]"
   ]
  },
  {
   "cell_type": "code",
   "execution_count": 199,
   "metadata": {},
   "outputs": [
    {
     "data": {
      "text/plain": [
       "<matplotlib.axes._subplots.AxesSubplot at 0x7f8cc0fe60f0>"
      ]
     },
     "execution_count": 199,
     "metadata": {},
     "output_type": "execute_result"
    },
    {
     "data": {
      "image/png": "[encoded data removed]",
      "text/plain": [
       "<Figure size 432x288 with 1 Axes>"
      ]
     },
     "metadata": {
      "needs_background": "light"
     },
     "output_type": "display_data"
    }
   ],
   "source": [
    "df.plot(kind=\"scatter\", x=\"Open\", y=\"Close\", color=\"blue\")"
   ]
  },
  {
   "cell_type": "code",
   "execution_count": null,
   "metadata": {},
   "outputs": [],
   "source": []
  },
  {
   "cell_type": "code",
   "execution_count": 179,
   "metadata": {},
   "outputs": [
    {
     "name": "stdout",
     "output_type": "stream",
     "text": [
      "221.77689653448277 13.238893649908329\n"
     ]
    }
   ],
   "source": [
    "import statistics as stats\n",
    "openPrices=df.loc[:,\"Open\"].tolist()\n",
    "openPrices\n",
    "print(stats.mean(openPrices), stats.stdev(openPrices) )"
   ]
  },
  {
   "cell_type": "code",
   "execution_count": null,
   "metadata": {},
   "outputs": [],
   "source": []
  },
  {
   "cell_type": "code",
   "execution_count": 193,
   "metadata": {},
   "outputs": [],
   "source": [
    "names = \"Jay, Hannah, Alex\"\n",
    "ages = \"5, 17, 19\"\n",
    "eyecolor = \"Blue, Brown, Green\"\n",
    "\n",
    "names = names.replace(\" \", \"\")\n",
    "ages = ages.replace(\" \", \"\")\n",
    "eyecolor = eyecolor.replace(\" \",\"\")\n",
    "\n",
    "names = names.split(\",\")\n",
    "ages = ages.split(\",\")\n",
    "eyecolor = eyecolor.split(\",\")\n",
    "\n",
    "people={\"Names\":names, \"Ages\":ages, \"Eye color\":eyecolor}\n",
    "\n",
    "df=pd.DataFrame(people)\n",
    "df=df.set_index(\"Names\")\n",
    "df.to_csv(\"PeopleData.csv\")\n"
   ]
  },
  {
   "cell_type": "code",
   "execution_count": 194,
   "metadata": {},
   "outputs": [
    {
     "name": "stdout",
     "output_type": "stream",
     "text": [
      "['Jay', 'Hannah', 'Alex']\n"
     ]
    }
   ],
   "source": [
    "print(names)"
   ]
  }
 ],
 "metadata": {
  "kernelspec": {
   "display_name": "Python 3",
   "language": "python",
   "name": "python3"
  },
  "language_info": {
   "codemirror_mode": {
    "name": "ipython",
    "version": 3
   },
   "file_extension": ".py",
   "mimetype": "text/x-python",
   "name": "python",
   "nbconvert_exporter": "python",
   "pygments_lexer": "ipython3",
   "version": "3.5.2"
  }
 },
 "nbformat": 4,
 "nbformat_minor": 2
}
