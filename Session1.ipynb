{
 "cells": [
  {
   "cell_type": "code",
   "execution_count": 32,
   "metadata": {},
   "outputs": [
    {
     "name": "stdout",
     "output_type": "stream",
     "text": [
      "21\n"
     ]
    }
   ],
   "source": [
    "people=[[\"khariton\", 21], [\"orlando\", 20]]"
   ]
  },
  {
   "cell_type": "code",
   "execution_count": 37,
   "metadata": {},
   "outputs": [
    {
     "name": "stdout",
     "output_type": "stream",
     "text": [
      "{'key1': 'value3', 'key2': 'value2'}\n"
     ]
    }
   ],
   "source": [
    "dictionary={\"key1\":\"value1\", \"key2\":\"value2\", \"key1\":\"value3\"}\n",
    "print(dictionary)"
   ]
  },
  {
   "cell_type": "code",
   "execution_count": 45,
   "metadata": {},
   "outputs": [
    {
     "name": "stdout",
     "output_type": "stream",
     "text": [
      "True\n"
     ]
    }
   ],
   "source": [
    "likeDrink=False\n",
    "likeFood=False\n",
    "myFriends=True\n",
    "goToHall=(likeDrink and likeFood) or myFriends\n",
    "print(goToHall)"
   ]
  },
  {
   "cell_type": "code",
   "execution_count": 53,
   "metadata": {},
   "outputs": [
    {
     "name": "stdout",
     "output_type": "stream",
     "text": [
      "True\n"
     ]
    }
   ],
   "source": [
    "x=10\n",
    "y=10\n",
    "print(x==y)\n",
    "\n",
    "#this condition checks whether x is equal to y"
   ]
  },
  {
   "cell_type": "code",
   "execution_count": null,
   "metadata": {},
   "outputs": [],
   "source": [
    "#Common mathematical comparators\n",
    "#== equal\n",
    "#!= not equal\n",
    "#> greater than\n",
    "#< less than\n",
    "#>= greater than or equal to\n",
    "#<= less than or equal to"
   ]
  },
  {
   "cell_type": "code",
   "execution_count": 55,
   "metadata": {},
   "outputs": [
    {
     "name": "stdout",
     "output_type": "stream",
     "text": [
      "3\n"
     ]
    }
   ],
   "source": [
    "list1=[1,2,3]\n",
    "print(list1[2])"
   ]
  },
  {
   "cell_type": "raw",
   "metadata": {},
   "source": [
    "How to run script on native python\n",
    "khariton@engs-25368:~$ cd CodeSoc-Python/\n",
    "khariton@engs-25368:~/CodeSoc-Python$ python3 goToHall.py\n",
    "True\n",
    "khariton@engs-25368:~/CodeSoc-Python$ \n"
   ]
  },
  {
   "cell_type": "code",
   "execution_count": null,
   "metadata": {},
   "outputs": [],
   "source": []
  }
 ],
 "metadata": {
  "kernelspec": {
   "display_name": "Python 3",
   "language": "python",
   "name": "python3"
  },
  "language_info": {
   "codemirror_mode": {
    "name": "ipython",
    "version": 3
   },
   "file_extension": ".py",
   "mimetype": "text/x-python",
   "name": "python",
   "nbconvert_exporter": "python",
   "pygments_lexer": "ipython3",
   "version": "3.5.2"
  }
 },
 "nbformat": 4,
 "nbformat_minor": 2
}
