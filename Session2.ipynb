{
 "cells": [
  {
   "cell_type": "code",
   "execution_count": 1,
   "metadata": {},
   "outputs": [
    {
     "name": "stdout",
     "output_type": "stream",
     "text": [
      "Going to hall\n",
      "Because i want to\n"
     ]
    }
   ],
   "source": [
    "likeDrink=False\n",
    "likeFood=True\n",
    "going=likeDrink or likeFood\n",
    "if(going):\n",
    "    print(\"Going to hall\")\n",
    "    print(\"Because i want to\")\n",
    "if(likeDrink):\n",
    "    print(\"get drink\")\n"
   ]
  },
  {
   "cell_type": "code",
   "execution_count": 2,
   "metadata": {},
   "outputs": [
    {
     "name": "stdout",
     "output_type": "stream",
     "text": [
      "Going to hall\n"
     ]
    }
   ],
   "source": [
    "likeDrink=True\n",
    "likeFood=True\n",
    "if(likeDrink):\n",
    "    print(\"Going to hall\")\n",
    "elif(likeFood):\n",
    "    print(\"Might go hall\")\n"
   ]
  },
  {
   "cell_type": "code",
   "execution_count": 3,
   "metadata": {},
   "outputs": [
    {
     "name": "stdout",
     "output_type": "stream",
     "text": [
      "0\n",
      "1\n",
      "4\n",
      "9\n",
      "16\n"
     ]
    }
   ],
   "source": [
    "ages=[10, 5, 12, 19, 3]\n",
    "#[0,1,2,3,4]\n",
    "for i in range(0, 5):\n",
    "    square=i*i\n",
    "    print(square)\n"
   ]
  },
  {
   "cell_type": "code",
   "execution_count": 4,
   "metadata": {},
   "outputs": [
    {
     "name": "stdout",
     "output_type": "stream",
     "text": [
      "10\n",
      "5\n",
      "12\n",
      "19\n",
      "3\n"
     ]
    }
   ],
   "source": [
    "ages=[10, 5, 12, 19, 3]\n",
    "#[0,1,2,3,4]\n",
    "for age in ages:\n",
    "    print(age)\n"
   ]
  },
  {
   "cell_type": "code",
   "execution_count": 5,
   "metadata": {},
   "outputs": [
    {
     "name": "stdout",
     "output_type": "stream",
     "text": [
      "[11, 6, 13, 20, 4]\n"
     ]
    }
   ],
   "source": [
    "ages=[10, 5, 12, 19, 3]\n",
    "for i in range(0,len(ages)):\n",
    "    ages[i]=ages[i]+1\n",
    "print(ages)"
   ]
  },
  {
   "cell_type": "code",
   "execution_count": 6,
   "metadata": {},
   "outputs": [
    {
     "name": "stdout",
     "output_type": "stream",
     "text": [
      "210\n"
     ]
    }
   ],
   "source": [
    "mysum=0\n",
    "for i in range(0,21):\n",
    "    mysum+=i\n",
    "    #mysum=mysum+i\n",
    "print(mysum)"
   ]
  },
  {
   "cell_type": "code",
   "execution_count": 7,
   "metadata": {},
   "outputs": [
    {
     "name": "stdout",
     "output_type": "stream",
     "text": [
      "[0, 1, 2, 3, 4, 5, 6, 7, 8, 9, 10]\n"
     ]
    }
   ],
   "source": [
    "mylist=[]\n",
    "for i in range(0, 11):\n",
    "    mylist.append(i)\n",
    "print(mylist)"
   ]
  },
  {
   "cell_type": "code",
   "execution_count": 8,
   "metadata": {},
   "outputs": [
    {
     "name": "stdout",
     "output_type": "stream",
     "text": [
      "[0, 1, 3, 6, 10]\n"
     ]
    }
   ],
   "source": [
    "partialsums=[]\n",
    "mysum=0\n",
    "for i in range(0, 5):\n",
    "    mysum+=i\n",
    "    partialsums.append(mysum)\n",
    "print(partialsums)"
   ]
  },
  {
   "cell_type": "code",
   "execution_count": 9,
   "metadata": {},
   "outputs": [
    {
     "name": "stdout",
     "output_type": "stream",
     "text": [
      "[100, 2, 3, 4]\n",
      "[100, 2, 3, 4]\n",
      "1\n",
      "2\n"
     ]
    }
   ],
   "source": [
    "list1=[1,2,3,4]\n",
    "list2=list1\n",
    "list2[0]=100\n",
    "print(list2)\n",
    "print(list1)\n",
    "a=1\n",
    "b=a\n",
    "b+=1\n",
    "print(a)\n",
    "print(b)"
   ]
  },
  {
   "cell_type": "code",
   "execution_count": 10,
   "metadata": {},
   "outputs": [
    {
     "name": "stdout",
     "output_type": "stream",
     "text": [
      "[100, 2, 3]\n",
      "[1, 2, 3]\n"
     ]
    }
   ],
   "source": [
    "list1=[1,2,3]\n",
    "list2=list1.copy()\n",
    "list2[0]=100\n",
    "print(list2)\n",
    "print(list1)"
   ]
  },
  {
   "cell_type": "code",
   "execution_count": 11,
   "metadata": {},
   "outputs": [
    {
     "name": "stdout",
     "output_type": "stream",
     "text": [
      "2063.2\n",
      "6620673.359999999\n"
     ]
    }
   ],
   "source": [
    "prices=[212,34,3545,6463,62]\n",
    "mysum=0\n",
    "for price in prices:\n",
    "    mysum+=price\n",
    "mean=mysum/len(prices)\n",
    "print(mean)\n",
    "\n",
    "mysum=0\n",
    "for price in prices:\n",
    "    mysum+=(mean-price)*(mean-price)\n",
    "variance=mysum/len(prices)\n",
    "print(variance)"
   ]
  },
  {
   "cell_type": "markdown",
   "metadata": {},
   "source": [
    "var=sum{(mean-price[i])^2/N}\n",
    "x^n -> x**n"
   ]
  },
  {
   "cell_type": "code",
   "execution_count": 12,
   "metadata": {},
   "outputs": [
    {
     "name": "stdout",
     "output_type": "stream",
     "text": [
      "[0, 1, 1, 2, 3, 5, 8, 13, 21, 34, 55, 89]\n"
     ]
    }
   ],
   "source": [
    "#setting up\n",
    "FPrevPrev=0#0th fib nr\n",
    "FPrev=1#1st fib number\n",
    "FList=[]\n",
    "FCurr=FPrev+FPrevPrev#current fib number\n",
    "#add first nr to the list\n",
    "FList.append(FPrevPrev)\n",
    "FList.append(FPrev)\n",
    "for i in range(0,10):\n",
    "    FList.append(FCurr)\n",
    "    FPrevPrev=FPrev\n",
    "    FPrev=FCurr\n",
    "    FCurr=FPrevPrev+FPrev\n",
    "print(FList)"
   ]
  },
  {
   "cell_type": "markdown",
   "metadata": {},
   "source": [
    "#CHALLENGE\n",
    "#MAKE A LOOP THAT CALCULATES FACTORIAL OF A NUMBER\n",
    "#EXAMPLE, FACTORIAL OF 5=5*4*3*2*1=120"
   ]
  },
  {
   "cell_type": "code",
   "execution_count": 13,
   "metadata": {},
   "outputs": [
    {
     "name": "stdout",
     "output_type": "stream",
     "text": [
      "120\n"
     ]
    }
   ],
   "source": [
    "fact=1\n",
    "n=5\n",
    "for i in range(1, n+1):\n",
    "    fact*=i\n",
    "    #fact=fact*i\n",
    "print(fact)"
   ]
  },
  {
   "cell_type": "code",
   "execution_count": 14,
   "metadata": {},
   "outputs": [
    {
     "name": "stdout",
     "output_type": "stream",
     "text": [
      "['khariton', 'joe', 'jane', 'leon']\n",
      "joe\n"
     ]
    }
   ],
   "source": [
    "data=\"khariton,joe,jane,leon\"\n",
    "newData=[]\n",
    "tempName=\"\"\n",
    "for i,character in enumerate(data):\n",
    "    if(character==\",\"):\n",
    "        newData.append(tempName)\n",
    "        tempName=\"\"\n",
    "    else:\n",
    "        tempName+=character\n",
    "    if(i==len(data)-1):\n",
    "        newData.append(tempName)\n",
    "print(newData)\n",
    "print(newData[1])"
   ]
  },
  {
   "cell_type": "code",
   "execution_count": 15,
   "metadata": {},
   "outputs": [
    {
     "name": "stdout",
     "output_type": "stream",
     "text": [
      "0\n",
      "10\n",
      "1\n",
      "20\n",
      "2\n",
      "33\n",
      "3\n",
      "40\n"
     ]
    }
   ],
   "source": [
    "list1=[10,20,33,40]\n",
    "for i,item in enumerate(list1):\n",
    "    print(i)\n",
    "    print(item)"
   ]
  },
  {
   "cell_type": "code",
   "execution_count": 16,
   "metadata": {},
   "outputs": [
    {
     "name": "stdout",
     "output_type": "stream",
     "text": [
      "['khariton', 'joe', 'jane', 'leon']\n"
     ]
    }
   ],
   "source": [
    "data=\"khariton,joe,jane,leon\"\n",
    "newData=data.split(\",\")\n",
    "print(newData)"
   ]
  },
  {
   "cell_type": "code",
   "execution_count": 18,
   "metadata": {},
   "outputs": [
    {
     "name": "stdout",
     "output_type": "stream",
     "text": [
      "105\n"
     ]
    }
   ],
   "source": [
    "x=0\n",
    "while x<100:\n",
    "    x=x+7\n",
    "print(x)"
   ]
  },
  {
   "cell_type": "code",
   "execution_count": 19,
   "metadata": {},
   "outputs": [],
   "source": [
    "def rectArea(width, height):\n",
    "    return width*height\n",
    "\n"
   ]
  },
  {
   "cell_type": "code",
   "execution_count": 20,
   "metadata": {},
   "outputs": [
    {
     "name": "stdout",
     "output_type": "stream",
     "text": [
      "George\n",
      "James\n",
      "True\n"
     ]
    }
   ],
   "source": [
    "names = [\"George\", \"James\", \"Jane\", \"Maria\", \"Jack\", \"Lilly\"]\n",
    "found=False\n",
    "for name in names:\n",
    "    if(name == \"Jane\"):\n",
    "        found=True\n",
    "        break\n",
    "    print(name)\n",
    "print(found)"
   ]
  },
  {
   "cell_type": "code",
   "execution_count": 21,
   "metadata": {},
   "outputs": [
    {
     "name": "stdout",
     "output_type": "stream",
     "text": [
      "Jack\n"
     ]
    }
   ],
   "source": [
    "names1 = [\"George\", \"James\", \"Jane\", \"Maria\", \"Jack\", \"Lilly\"]\n",
    "names2 = [\"Georgesaf\", \"Jamesasf\", \"Janeasf\", \"Mariaasf\", \"Jack\", \"Lillyas\"]\n",
    "\n",
    "for name1 in names1:\n",
    "    for name in names2:\n",
    "        if(name1==name):\n",
    "            print(name)\n"
   ]
  },
  {
   "cell_type": "code",
   "execution_count": 22,
   "metadata": {},
   "outputs": [
    {
     "name": "stdout",
     "output_type": "stream",
     "text": [
      "khariton is a nice dog\n"
     ]
    }
   ],
   "source": [
    "def compliment(name, organism=\"person\"):\n",
    "    response=name+\" is a nice \"+organism\n",
    "    print(response)\n",
    "\n",
    "compliment(\"khariton\", \"dog\")"
   ]
  },
  {
   "cell_type": "code",
   "execution_count": null,
   "metadata": {},
   "outputs": [],
   "source": []
  }
 ],
 "metadata": {
  "kernelspec": {
   "display_name": "Python 3",
   "language": "python",
   "name": "python3"
  },
  "language_info": {
   "codemirror_mode": {
    "name": "ipython",
    "version": 3
   },
   "file_extension": ".py",
   "mimetype": "text/x-python",
   "name": "python",
   "nbconvert_exporter": "python",
   "pygments_lexer": "ipython3",
   "version": "3.5.2"
  }
 },
 "nbformat": 4,
 "nbformat_minor": 2
}
